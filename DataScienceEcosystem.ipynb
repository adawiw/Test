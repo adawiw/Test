{
 "cells": [
  {
   "cell_type": "markdown",
   "id": "1d124f4f-7c5a-4ce8-882a-d6c13c6daa30",
   "metadata": {},
   "source": [
    "# Data Science Tools and Ecosystems"
   ]
  },
  {
   "cell_type": "markdown",
   "id": "dab93457-cb83-4d40-b24d-de8d13f707c9",
   "metadata": {},
   "source": [
    "__Objectives:__\n",
    "* List of popular languages for data science\n",
    "* List of commonly used libraries within data science\n",
    "* Examples of arithmetic expressions in python"
   ]
  },
  {
   "cell_type": "markdown",
   "id": "a39eadc2-026a-4744-9123-9fd6db961f1d",
   "metadata": {},
   "source": [
    "In this notebook, Data Science Tools and Ecosystem are summarized."
   ]
  },
  {
   "cell_type": "markdown",
   "id": "a877a17f-71b4-46fb-96aa-2f0708a11276",
   "metadata": {},
   "source": [
    "Some of the popular languages that Data Scientists use are: \n",
    "1. R\n",
    "2. Python\n",
    "3. SQL"
   ]
  },
  {
   "cell_type": "markdown",
   "id": "8f8972e4-50aa-4f8e-87f5-2699b17a2c20",
   "metadata": {},
   "source": [
    "Some of the commonly used libraries used by Data Scientists include:\n",
    "1. Tensorflow\n",
    "2. Pandas\n",
    "3. Numpy\n"
   ]
  },
  {
   "cell_type": "markdown",
   "id": "f1926a7e-8746-4432-aa95-3227a7080bfe",
   "metadata": {},
   "source": [
    "|Data Science Tools|\n",
    "|-----------------|\n",
    "|jupyter notebooks|\n",
    "|R Studio|\n",
    "|IBM Watson|"
   ]
  },
  {
   "cell_type": "markdown",
   "id": "73eaec62-4d8a-47f4-9622-46bfa7729ab1",
   "metadata": {},
   "source": [
    "### Below are a few examples of evaluating arithmetic expressions in Python."
   ]
  },
  {
   "cell_type": "code",
   "execution_count": 5,
   "id": "2e1bbe5e-1b7c-4569-9495-ff21608b525c",
   "metadata": {},
   "outputs": [
    {
     "data": {
      "text/plain": [
       "17"
      ]
     },
     "execution_count": 5,
     "metadata": {},
     "output_type": "execute_result"
    }
   ],
   "source": [
    "(3*4)+5\n",
    "# This a simple arithmetic expression to mutiply then add integers"
   ]
  },
  {
   "cell_type": "code",
   "execution_count": 6,
   "id": "b06f4b0a-8515-4156-a319-8ae676f7b6c2",
   "metadata": {},
   "outputs": [
    {
     "data": {
      "text/plain": [
       "3.3333333333333335"
      ]
     },
     "execution_count": 6,
     "metadata": {},
     "output_type": "execute_result"
    }
   ],
   "source": [
    "200/60\n",
    "# This will convert 200 minutes to hours by diving by 60"
   ]
  },
  {
   "cell_type": "markdown",
   "id": "6b036195-eb9e-416f-904b-f104e0cd39c2",
   "metadata": {},
   "source": [
    "## Author\n",
    "Waleed "
   ]
  }
 ],
 "metadata": {
  "kernelspec": {
   "display_name": "Python 3 (ipykernel)",
   "language": "python",
   "name": "python3"
  },
  "language_info": {
   "codemirror_mode": {
    "name": "ipython",
    "version": 3
   },
   "file_extension": ".py",
   "mimetype": "text/x-python",
   "name": "python",
   "nbconvert_exporter": "python",
   "pygments_lexer": "ipython3",
   "version": "3.11.5"
  }
 },
 "nbformat": 4,
 "nbformat_minor": 5
}
